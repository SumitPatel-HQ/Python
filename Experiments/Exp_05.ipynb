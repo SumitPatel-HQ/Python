{
  "metadata": {
    "kernelspec": {
      "name": "python",
      "display_name": "Python (Pyodide)",
      "language": "python"
    },
    "language_info": {
      "codemirror_mode": {
        "name": "python",
        "version": 3
      },
      "file_extension": ".py",
      "mimetype": "text/x-python",
      "name": "python",
      "nbconvert_exporter": "python",
      "pygments_lexer": "ipython3",
      "version": "3.8"
    }
  },
  "nbformat_minor": 5,
  "nbformat": 4,
  "cells": [
    {
      "id": "743416eb-0d62-4665-8191-5a4aee86bd70",
      "cell_type": "markdown",
      "source": "# James Lewis - 29\n## Experiment 5",
      "metadata": {}
    },
    {
      "id": "529fff8d-b7cf-4b61-ad49-015534bd0475",
      "cell_type": "code",
      "source": "class StackDepth:\n    def maximumDepth(self, stringInput: str) -> int:\n        max_depth = 0  \n        current_depth = 0 \n        \n       \n        for char in stringInput:\n            if char == '(':  \n                current_depth += 1  \n                max_depth = max(max_depth, current_depth)  \n            elif char == ')':\n                current_depth -= 1  \n        \n        return max_depth \n",
      "metadata": {
        "trusted": true
      },
      "outputs": [],
      "execution_count": 3
    },
    {
      "id": "76b273b0-6957-4756-ab77-749a1597af3a",
      "cell_type": "code",
      "source": "s = \"(1+(2*3)+((8)/4))+1\"\nstack_depth = StackDepth()\nprint(stack_depth.maximumDepth(s))  # Output: 3\n",
      "metadata": {
        "trusted": true
      },
      "outputs": [
        {
          "name": "stdout",
          "output_type": "stream",
          "text": "3\n"
        }
      ],
      "execution_count": 4
    },
    {
      "id": "8d6d4cec-4155-4a08-98f7-26f491e55fab",
      "cell_type": "code",
      "source": "s = \"(1)+((2))+(((3)))\"\nstack_depth = StackDepth()\nprint(stack_depth.maximumDepth(s))  # Output: 3\n",
      "metadata": {
        "trusted": true
      },
      "outputs": [
        {
          "name": "stdout",
          "output_type": "stream",
          "text": "3\n"
        }
      ],
      "execution_count": 5
    },
    {
      "id": "a28d7c58-53b8-44ee-8c54-3a9a2a8d4cd9",
      "cell_type": "code",
      "source": "s = \"()(())((()()))\"\nstack_depth = StackDepth()\nprint(stack_depth.maximumDepth(s))  # Output: 3\n",
      "metadata": {
        "trusted": true
      },
      "outputs": [
        {
          "name": "stdout",
          "output_type": "stream",
          "text": "3\n"
        }
      ],
      "execution_count": 6
    }
  ]
}