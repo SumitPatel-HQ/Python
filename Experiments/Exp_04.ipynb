{
  "metadata": {
    "kernelspec": {
      "name": "python",
      "display_name": "Python (Pyodide)",
      "language": "python"
    },
    "language_info": {
      "codemirror_mode": {
        "name": "python",
        "version": 3
      },
      "file_extension": ".py",
      "mimetype": "text/x-python",
      "name": "python",
      "nbconvert_exporter": "python",
      "pygments_lexer": "ipython3",
      "version": "3.8"
    }
  },
  "nbformat_minor": 5,
  "nbformat": 4,
  "cells": [
    {
      "id": "b44d49a1-bd31-4c20-af43-1203129f91fc",
      "cell_type": "code",
      "source": "import os\n\nfiles = [f for f in os.listdir('.') if os.path.isfile(f)]\n\nprint(\"Files in the current directory:\")\nfor file in files:\n    print(file)\n\n'''\nThe above scipt uses os module to perform the required function.\nUtilize the pathlib module to perform the same functionality.\n'''",
      "metadata": {
        "trusted": true
      },
      "outputs": [
        {
          "name": "stdout",
          "output_type": "stream",
          "text": "Files in the current directory:\nImportOS.ipynb\nPath_file.ipynb\nREADME.md\n"
        },
        {
          "execution_count": 7,
          "output_type": "execute_result",
          "data": {
            "text/plain": "'\\nThe above scipt uses os module to perform the required function.\\nUtilize the pathlib module to perform the same functionality.\\n'"
          },
          "metadata": {}
        }
      ],
      "execution_count": 7
    },
    {
      "id": "4085f49e-1c3e-4440-96cc-b3c38c16510b",
      "cell_type": "code",
      "source": "from pathlib import Path\n\n# Get all files in the current directory\nfiles = [file.name for file in Path('.').iterdir() if file.is_file()]\n\nprint(\"Files in the current directory:\")\nfor file in files:\n    print(file)",
      "metadata": {
        "trusted": true
      },
      "outputs": [
        {
          "name": "stdout",
          "output_type": "stream",
          "text": "Files in the current directory:\nImportOS.ipynb\nPath_file.ipynb\nREADME.md\n"
        }
      ],
      "execution_count": 8
    },
    {
      "id": "48a18371-415a-4d52-a936-872943fc281e",
      "cell_type": "code",
      "source": "",
      "metadata": {
        "trusted": true
      },
      "outputs": [],
      "execution_count": null
    }
  ]
}